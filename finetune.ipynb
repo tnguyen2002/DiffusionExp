{
 "cells": [
  {
   "cell_type": "code",
   "execution_count": null,
   "metadata": {},
   "outputs": [],
   "source": [
    "# MODEL_NAME=\"stabilityai/stable-diffusion-xl-base-1.0\"\n",
    "MODEL_NAME = \"runwayml/stable-diffusion-v1-5\"\n",
    "# VAE_NAME=\"madebyollin/sdxl-vae-fp16-fix\"\n",
    "# DATASET_NAME=\"lambdalabs/pokemon-blip-captions\"\n",
    "# DATASET_NAME=\"/content/drive/MyDrive/OnePieceKaggle_Small_hf\""
   ]
  },
  {
   "cell_type": "code",
   "execution_count": null,
   "metadata": {},
   "outputs": [],
   "source": []
  },
  {
   "cell_type": "code",
   "execution_count": null,
   "metadata": {},
   "outputs": [],
   "source": [
    "!python3 /content/diffusers/examples/text_to_image/train_text_to_image_lora.py \\\n",
    "  --pretrained_model_name_or_path=$MODEL_NAME \\\n",
    "  --train_data_dir=$DATASET_NAME \\\n",
    "  --enable_xformers_memory_efficient_attention \\\n",
    "  --caption_column=\"text\" \\\n",
    "  --image_column=\"image\" \\\n",
    "  --resolution=512 \\\n",
    "  --center_crop \\\n",
    "  --random_flip \\\n",
    "  --gradient_accumulation_steps=4 \\\n",
    "  --gradient_checkpointing \\\n",
    "  --max_train_steps=800 \\\n",
    "  --use_8bit_adam \\\n",
    "  --learning_rate=1e-06 \\\n",
    "  --lr_scheduler=\"constant\" \\\n",
    "  --lr_warmup_steps=0 \\\n",
    "  --mixed_precision=\"fp16\" \\\n",
    "  --checkpointing_steps=5000 \\\n",
    "  --output_dir=\"/content/drive/MyDrive/output\" \\"
   ]
  }
 ],
 "metadata": {
  "language_info": {
   "name": "python"
  }
 },
 "nbformat": 4,
 "nbformat_minor": 2
}

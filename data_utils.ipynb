{
 "cells": [
  {
   "cell_type": "code",
   "execution_count": 19,
   "metadata": {},
   "outputs": [
    {
     "name": "stderr",
     "output_type": "stream",
     "text": [
      "/Users/tnguyen/anaconda3/envs/lolify/lib/python3.9/site-packages/tqdm/auto.py:21: TqdmWarning: IProgress not found. Please update jupyter and ipywidgets. See https://ipywidgets.readthedocs.io/en/stable/user_install.html\n",
      "  from .autonotebook import tqdm as notebook_tqdm\n"
     ]
    }
   ],
   "source": [
    "import os\n",
    "import glob\n",
    "import os\n",
    "import pandas as pd\n",
    "from PIL import Image\n",
    "import shutil\n",
    "import csv\n",
    "import pyarrow.parquet as pq\n",
    "from datasets import load_dataset\n"
   ]
  },
  {
   "cell_type": "code",
   "execution_count": null,
   "metadata": {},
   "outputs": [],
   "source": [
    "\n",
    "# Define the directory path\n",
    "directory_path = '/Users/tnguyen/Documents/DiffusionExp/OnePieceKaggle/data'\n",
    "\n",
    "# Search for all files ending with 'inverted.png' in the directory and its subdirectories\n",
    "for filename in glob.glob(os.path.join(directory_path, '**', '*Rotated*'), recursive=True):\n",
    "    os.remove(filename)\n",
    "    print(f\"Deleted: {filename}\")"
   ]
  },
  {
   "cell_type": "code",
   "execution_count": 17,
   "metadata": {},
   "outputs": [],
   "source": [
    "# Directories\n",
    "outer_directory = '/Users/tnguyen/Documents/DiffusionExp/data/OnePieceKaggle_Small'\n",
    "output_directory = '/Users/tnguyen/Documents/DiffusionExp/data/OnePieceKaggle_Small_hf'\n",
    "os.makedirs(output_directory, exist_ok=True)\n",
    "\n",
    "\n",
    "csv_file = '/Users/tnguyen/Documents/DiffusionExp/data/OnePieceKaggle_Small_hf/metadata.csv'\n",
    "\n",
    "with open(csv_file, mode='w', newline='', encoding='utf-8') as file:\n",
    "    writer = csv.writer(file)\n",
    "    writer.writerow(['image', 'text'])\n",
    "    image_counter = 0\n",
    "\n",
    "    for class_name in os.listdir(outer_directory):\n",
    "        class_path = os.path.join(outer_directory, class_name)\n",
    "        if os.path.isdir(class_path):\n",
    "            for i, image_file in enumerate(os.listdir(class_path)):\n",
    "                if(i < 5):\n",
    "                    image_path = os.path.join(class_path, image_file)\n",
    "                    if os.path.isfile(image_path):\n",
    "                        # Process the image\n",
    "                        try:\n",
    "                            image = Image.open(image_path)\n",
    "                            image_name = f'image_{image_counter}.png'\n",
    "                            output_image_path = os.path.join(output_directory, image_name)\n",
    "                            image.save(output_image_path)\n",
    "                            writer.writerow([image_name,class_name])\n",
    "                            # Increment image counter\n",
    "                            image_counter += 1\n",
    "                        except:\n",
    "                            continue\n"
   ]
  },
  {
   "cell_type": "code",
   "execution_count": null,
   "metadata": {},
   "outputs": [],
   "source": [
    "# Load your dataset from Hugging Face\n",
    "dataset = load_dataset(\"lambdalabs/pokemon-blip-captions\", split=\"train\")\n",
    "# Create a directory for images if it doesn't exist\n",
    "image_dir = '/Users/tnguyen/Documents/DiffusionExp/pokemon'\n",
    "os.makedirs(image_dir, exist_ok=True)\n",
    "\n",
    "csv_file = 'metadata.csv'\n",
    "\n",
    "with open(csv_file, mode='w', newline='', encoding='utf-8') as file:\n",
    "    writer = csv.writer(file)\n",
    "\n",
    "    # Write the header row\n",
    "    writer.writerow(['image', 'text'])  # Modify as per your dataset fields\n",
    "    # Iterate over the dataset and write rows to the CSV file\n",
    "    for i, item in enumerate(dataset):  # Replace 'train' with the appropriate split if necessary\n",
    "        image = item['image']\n",
    "        image_name = f'image_{i}.png'\n",
    "        image_path = os.path.join(image_dir, image_name)\n",
    "        image.save(image_path)\n",
    "        writer.writerow([image_name, item['text']])\n"
   ]
  },
  {
   "cell_type": "code",
   "execution_count": 21,
   "metadata": {},
   "outputs": [
    {
     "name": "stderr",
     "output_type": "stream",
     "text": [
      "Resolving data files: 100%|██████████| 31/31 [00:00<00:00, 78092.15it/s]\n",
      "Generating train split: 30 examples [00:00, 1017.94 examples/s]\n"
     ]
    },
    {
     "data": {
      "text/plain": [
       "DatasetDict({\n",
       "    train: Dataset({\n",
       "        features: ['image', 'text'],\n",
       "        num_rows: 30\n",
       "    })\n",
       "})"
      ]
     },
     "execution_count": 21,
     "metadata": {},
     "output_type": "execute_result"
    }
   ],
   "source": [
    "d = load_dataset(\"/Users/tnguyen/Documents/DiffusionExp/data/OnePieceKaggle_Small_hf\")\n",
    "d['train'][0]"
   ]
  },
  {
   "cell_type": "code",
   "execution_count": null,
   "metadata": {},
   "outputs": [],
   "source": []
  }
 ],
 "metadata": {
  "kernelspec": {
   "display_name": "lolify",
   "language": "python",
   "name": "python3"
  },
  "language_info": {
   "codemirror_mode": {
    "name": "ipython",
    "version": 3
   },
   "file_extension": ".py",
   "mimetype": "text/x-python",
   "name": "python",
   "nbconvert_exporter": "python",
   "pygments_lexer": "ipython3",
   "version": "3.9.18"
  }
 },
 "nbformat": 4,
 "nbformat_minor": 2
}
